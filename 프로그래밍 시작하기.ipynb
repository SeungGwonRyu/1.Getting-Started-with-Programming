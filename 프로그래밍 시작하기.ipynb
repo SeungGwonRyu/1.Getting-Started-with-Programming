{
 "cells": [
  {
   "cell_type": "code",
   "execution_count": 10,
   "metadata": {},
   "outputs": [
    {
     "name": "stdout",
     "output_type": "stream",
     "text": [
      "1194\n",
      "1940\n",
      "929.9\n",
      "1880\n"
     ]
    }
   ],
   "source": [
    "# 여기에 코드를 작성하세요.\n",
    "kitkat = 190\n",
    "oreos = 502\n",
    "pringles = 292\n",
    "twix = 135.9\n",
    "cheetos = 485\n",
    "\n",
    "\n",
    "\n",
    "# 다양한 과자 조합\n",
    "print(kitkat + oreos * 2)\n",
    "print(cheetos * 4)\n",
    "print(pringles + oreos + twix)\n",
    "print(pringles * 3 + oreos * 2)"
   ]
  },
  {
   "cell_type": "code",
   "execution_count": 11,
   "metadata": {},
   "outputs": [
    {
     "name": "stdout",
     "output_type": "stream",
     "text": [
      "1. 준비된 컵에 초코 소스를 넣는다.\n",
      "2. 에스프레소를 추출하고 잔에 부어 준다.\n",
      "3. 초코 소스와 커피를 잘 섞어 준다.\n",
      "4. 거품기로 우유 거품을 내고, 잔에 부어 준다.\n",
      "5. 생크림을 얹어 준다.\n",
      "1. 준비된 컵에 초코 소스를 넣는다.\n",
      "2. 에스프레소를 추출하고 잔에 부어 준다.\n",
      "3. 초코 소스와 커피를 잘 섞어 준다.\n",
      "4. 거품기로 우유 거품을 내고, 잔에 부어 준다.\n",
      "5. 생크림을 얹어 준다.\n"
     ]
    }
   ],
   "source": [
    "# 코드를 작성하세요. \n",
    "def cafe_mocha_recipe() : \n",
    "    print(\"1. 준비된 컵에 초코 소스를 넣는다.\")\n",
    "    print(\"2. 에스프레소를 추출하고 잔에 부어 준다.\")\n",
    "    print(\"3. 초코 소스와 커피를 잘 섞어 준다.\")\n",
    "    print(\"4. 거품기로 우유 거품을 내고, 잔에 부어 준다.\")\n",
    "    print(\"5. 생크림을 얹어 준다.\")\n",
    "\n",
    "# 테스트 코드\n",
    "cafe_mocha_recipe()\n",
    "cafe_mocha_recipe()"
   ]
  },
  {
   "cell_type": "code",
   "execution_count": 12,
   "metadata": {},
   "outputs": [
    {
     "name": "stdout",
     "output_type": "stream",
     "text": [
      "105\n",
      "756\n",
      "-126\n"
     ]
    }
   ],
   "source": [
    "# 코드를 작성하세요. \n",
    "def multiply_three_numbers (a,b,c):\n",
    "    print(a*b*c)\n",
    "\n",
    "\n",
    "# 테스트 코드\n",
    "multiply_three_numbers(7, 3, 5)\n",
    "multiply_three_numbers(21, 4, 9)\n",
    "multiply_three_numbers(-7, 6, 3)"
   ]
  },
  {
   "cell_type": "code",
   "execution_count": null,
   "metadata": {},
   "outputs": [],
   "source": [
    "def get_square(x) :\n",
    "    return x*x\n",
    "\n",
    "print(get_square(3))"
   ]
  },
  {
   "cell_type": "code",
   "execution_count": null,
   "metadata": {},
   "outputs": [],
   "source": [
    "def get_square(x) :\n",
    "    return x*x\n",
    "\n",
    "y = get_square(3)\n",
    "print(y)"
   ]
  },
  {
   "cell_type": "code",
   "execution_count": null,
   "metadata": {},
   "outputs": [],
   "source": [
    "def get_square(x):\n",
    "    return x*x\n",
    "    \n",
    "print(get_square(5) + get_square(2))"
   ]
  },
  {
   "cell_type": "code",
   "execution_count": null,
   "metadata": {},
   "outputs": [],
   "source": [
    "#변수 : 값을 저장하는 것\n",
    "#함수 : 명령을 저장하는 것\n",
    "#파라미터 : 함수에 넘겨주는 값 "
   ]
  },
  {
   "cell_type": "code",
   "execution_count": null,
   "metadata": {},
   "outputs": [],
   "source": []
  },
  {
   "cell_type": "code",
   "execution_count": 9,
   "metadata": {},
   "outputs": [
    {
     "name": "stdout",
     "output_type": "stream",
     "text": [
      "16\n",
      "None\n"
     ]
    }
   ],
   "source": [
    "def double(x) :\n",
    "    print(x*x)\n",
    "\n",
    "print(double(4))"
   ]
  },
  {
   "cell_type": "code",
   "execution_count": 1,
   "metadata": {},
   "outputs": [
    {
     "name": "stdout",
     "output_type": "stream",
     "text": [
      "you\n"
     ]
    }
   ],
   "source": [
    "def hello() :\n",
    "    print(\"you\")\n",
    "\n",
    "hello()"
   ]
  },
  {
   "cell_type": "code",
   "execution_count": 21,
   "metadata": {},
   "outputs": [
    {
     "name": "stdout",
     "output_type": "stream",
     "text": [
      "25\n",
      "7569\n"
     ]
    }
   ],
   "source": [
    "def get_square(x) : \n",
    "    return x*x\n",
    "\n",
    "print(get_square(5))\n",
    "y = get_square\n",
    "print(y(87))"
   ]
  }
 ],
 "metadata": {
  "kernelspec": {
   "display_name": "Python 3",
   "language": "python",
   "name": "python3"
  },
  "language_info": {
   "codemirror_mode": {
    "name": "ipython",
    "version": 3
   },
   "file_extension": ".py",
   "mimetype": "text/x-python",
   "name": "python",
   "nbconvert_exporter": "python",
   "pygments_lexer": "ipython3",
   "version": "3.11.3"
  },
  "orig_nbformat": 4
 },
 "nbformat": 4,
 "nbformat_minor": 2
}
